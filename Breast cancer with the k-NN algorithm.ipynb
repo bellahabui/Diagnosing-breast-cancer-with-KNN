{
  "nbformat": 4,
  "nbformat_minor": 0,
  "metadata": {
    "colab": {
      "name": "6020_Assignment_1_Part A.ipynb",
      "provenance": [],
      "collapsed_sections": []
    },
    "kernelspec": {
      "name": "python3",
      "display_name": "Python 3"
    }
  },
  "cells": [
    {
      "cell_type": "markdown",
      "metadata": {
        "id": "HuLqgUJW2oVX",
        "colab_type": "text"
      },
      "source": [
        "#Collecting data\n",
        "We will use in this article the Wisconsin Breast Cancer Diagnostic dataset from the UCI Machine Learning Repository. \n",
        "\n",
        "K-nearest neighbor algorithm is used to predict whether is patient is having cancer (Malignant tumor) or not (Benign tumor).\n",
        "\n",
        "The breast cancer data includes 569 cases of cancer biopsies, each with 32 features. The first feature is an ID number, the second is the cancer diagnosis, and 30 are numeric-valued laboratory measurements. The diagnosis is coded as “B” to indicate benignor “M” to indicate malignant.\n",
        "The other 30 numeric measurements comprise the mean, standard error, and worst value for 10 different characteristics of the digitized cell nuclei which are: Radius, Texture, Perimeter, Area, Smoothness, Compactness, Concavity, Concave points, Symmetry, and Fractal dimension.\n",
        "\n",
        "\n",
        "\n",
        "\n"
      ]
    },
    {
      "cell_type": "markdown",
      "metadata": {
        "id": "m2m37sgG3Dip",
        "colab_type": "text"
      },
      "source": [
        "#Exploring and preparing the data\n"
      ]
    },
    {
      "cell_type": "code",
      "metadata": {
        "id": "sol7Au3I2ukY",
        "colab_type": "code",
        "colab": {}
      },
      "source": [
        "import numpy as np  \n",
        "import pandas as pd \n",
        "import matplotlib.pyplot as plt \n",
        "import seaborn as sns\n",
        "from sklearn.neighbors import KNeighborsClassifier"
      ],
      "execution_count": 0,
      "outputs": []
    },
    {
      "cell_type": "code",
      "metadata": {
        "id": "WSLtRDE43X_3",
        "colab_type": "code",
        "outputId": "2cd4aa8f-41c9-4d08-d989-2df5b9a93142",
        "colab": {
          "base_uri": "https://localhost:8080/",
          "height": 34
        }
      },
      "source": [
        "from google.colab import drive\n",
        "drive.mount('/content/gdrive')"
      ],
      "execution_count": 32,
      "outputs": [
        {
          "output_type": "stream",
          "text": [
            "Drive already mounted at /content/gdrive; to attempt to forcibly remount, call drive.mount(\"/content/gdrive\", force_remount=True).\n"
          ],
          "name": "stdout"
        }
      ]
    },
    {
      "cell_type": "code",
      "metadata": {
        "id": "FOm3KkPp3ilQ",
        "colab_type": "code",
        "outputId": "e65aa309-b87a-4038-adf3-d6a572b54510",
        "colab": {
          "base_uri": "https://localhost:8080/",
          "height": 224
        }
      },
      "source": [
        "df = 'gdrive/My Drive/ALY_6020/wdbc.csv'\n",
        "data=pd.read_csv(df)\n",
        "data.head(5)"
      ],
      "execution_count": 33,
      "outputs": [
        {
          "output_type": "execute_result",
          "data": {
            "text/html": [
              "<div>\n",
              "<style scoped>\n",
              "    .dataframe tbody tr th:only-of-type {\n",
              "        vertical-align: middle;\n",
              "    }\n",
              "\n",
              "    .dataframe tbody tr th {\n",
              "        vertical-align: top;\n",
              "    }\n",
              "\n",
              "    .dataframe thead th {\n",
              "        text-align: right;\n",
              "    }\n",
              "</style>\n",
              "<table border=\"1\" class=\"dataframe\">\n",
              "  <thead>\n",
              "    <tr style=\"text-align: right;\">\n",
              "      <th></th>\n",
              "      <th>ID</th>\n",
              "      <th>Diagnosis</th>\n",
              "      <th>radius_mean</th>\n",
              "      <th>texture_mean</th>\n",
              "      <th>perimeter_mean</th>\n",
              "      <th>area_mean</th>\n",
              "      <th>smoothness_mean</th>\n",
              "      <th>compactness_mean</th>\n",
              "      <th>concavity_mean</th>\n",
              "      <th>concave_points_mean</th>\n",
              "      <th>symmetry_mean</th>\n",
              "      <th>fractal_dimension_mean</th>\n",
              "      <th>radius_se</th>\n",
              "      <th>texture_se</th>\n",
              "      <th>perimeter_se</th>\n",
              "      <th>area_se</th>\n",
              "      <th>smoothness_se</th>\n",
              "      <th>compactness_se</th>\n",
              "      <th>concavity_se</th>\n",
              "      <th>concave_points_se</th>\n",
              "      <th>symmetry_se</th>\n",
              "      <th>fractal_dimension_se</th>\n",
              "      <th>radius_worst</th>\n",
              "      <th>texture_worst</th>\n",
              "      <th>perimeter_worst</th>\n",
              "      <th>area_worst</th>\n",
              "      <th>smoothness_worst</th>\n",
              "      <th>compactness_worst</th>\n",
              "      <th>concavity_worst</th>\n",
              "      <th>concave_points_worst</th>\n",
              "      <th>symmetry_worst</th>\n",
              "      <th>fractal_dimension_worst</th>\n",
              "    </tr>\n",
              "  </thead>\n",
              "  <tbody>\n",
              "    <tr>\n",
              "      <th>0</th>\n",
              "      <td>866203</td>\n",
              "      <td>M</td>\n",
              "      <td>19.00</td>\n",
              "      <td>18.91</td>\n",
              "      <td>123.40</td>\n",
              "      <td>1138.0</td>\n",
              "      <td>0.08217</td>\n",
              "      <td>0.08028</td>\n",
              "      <td>0.09271</td>\n",
              "      <td>0.05627</td>\n",
              "      <td>0.1946</td>\n",
              "      <td>0.05044</td>\n",
              "      <td>0.6896</td>\n",
              "      <td>1.342</td>\n",
              "      <td>5.216</td>\n",
              "      <td>81.23</td>\n",
              "      <td>0.004428</td>\n",
              "      <td>0.02731</td>\n",
              "      <td>0.04040</td>\n",
              "      <td>0.013610</td>\n",
              "      <td>0.02030</td>\n",
              "      <td>0.002686</td>\n",
              "      <td>22.32</td>\n",
              "      <td>25.73</td>\n",
              "      <td>148.20</td>\n",
              "      <td>1538.0</td>\n",
              "      <td>0.1021</td>\n",
              "      <td>0.2264</td>\n",
              "      <td>0.32070</td>\n",
              "      <td>0.12180</td>\n",
              "      <td>0.2841</td>\n",
              "      <td>0.06541</td>\n",
              "    </tr>\n",
              "    <tr>\n",
              "      <th>1</th>\n",
              "      <td>91505</td>\n",
              "      <td>B</td>\n",
              "      <td>12.54</td>\n",
              "      <td>16.32</td>\n",
              "      <td>81.25</td>\n",
              "      <td>476.3</td>\n",
              "      <td>0.11580</td>\n",
              "      <td>0.10850</td>\n",
              "      <td>0.05928</td>\n",
              "      <td>0.03279</td>\n",
              "      <td>0.1943</td>\n",
              "      <td>0.06612</td>\n",
              "      <td>0.2577</td>\n",
              "      <td>1.095</td>\n",
              "      <td>1.566</td>\n",
              "      <td>18.49</td>\n",
              "      <td>0.009702</td>\n",
              "      <td>0.01567</td>\n",
              "      <td>0.02575</td>\n",
              "      <td>0.011610</td>\n",
              "      <td>0.02801</td>\n",
              "      <td>0.002480</td>\n",
              "      <td>13.57</td>\n",
              "      <td>21.40</td>\n",
              "      <td>86.67</td>\n",
              "      <td>552.0</td>\n",
              "      <td>0.1580</td>\n",
              "      <td>0.1751</td>\n",
              "      <td>0.18890</td>\n",
              "      <td>0.08411</td>\n",
              "      <td>0.3155</td>\n",
              "      <td>0.07538</td>\n",
              "    </tr>\n",
              "    <tr>\n",
              "      <th>2</th>\n",
              "      <td>9010018</td>\n",
              "      <td>M</td>\n",
              "      <td>15.08</td>\n",
              "      <td>25.74</td>\n",
              "      <td>98.00</td>\n",
              "      <td>716.6</td>\n",
              "      <td>0.10240</td>\n",
              "      <td>0.09769</td>\n",
              "      <td>0.12350</td>\n",
              "      <td>0.06553</td>\n",
              "      <td>0.1647</td>\n",
              "      <td>0.06464</td>\n",
              "      <td>0.6534</td>\n",
              "      <td>1.506</td>\n",
              "      <td>4.174</td>\n",
              "      <td>63.37</td>\n",
              "      <td>0.010520</td>\n",
              "      <td>0.02431</td>\n",
              "      <td>0.04912</td>\n",
              "      <td>0.017460</td>\n",
              "      <td>0.02120</td>\n",
              "      <td>0.004867</td>\n",
              "      <td>18.51</td>\n",
              "      <td>33.22</td>\n",
              "      <td>121.20</td>\n",
              "      <td>1050.0</td>\n",
              "      <td>0.1660</td>\n",
              "      <td>0.2356</td>\n",
              "      <td>0.40290</td>\n",
              "      <td>0.15260</td>\n",
              "      <td>0.2654</td>\n",
              "      <td>0.09438</td>\n",
              "    </tr>\n",
              "    <tr>\n",
              "      <th>3</th>\n",
              "      <td>862989</td>\n",
              "      <td>B</td>\n",
              "      <td>10.49</td>\n",
              "      <td>19.29</td>\n",
              "      <td>67.41</td>\n",
              "      <td>336.1</td>\n",
              "      <td>0.09989</td>\n",
              "      <td>0.08578</td>\n",
              "      <td>0.02995</td>\n",
              "      <td>0.01201</td>\n",
              "      <td>0.2217</td>\n",
              "      <td>0.06481</td>\n",
              "      <td>0.3550</td>\n",
              "      <td>1.534</td>\n",
              "      <td>2.302</td>\n",
              "      <td>23.13</td>\n",
              "      <td>0.007595</td>\n",
              "      <td>0.02219</td>\n",
              "      <td>0.02880</td>\n",
              "      <td>0.008614</td>\n",
              "      <td>0.02710</td>\n",
              "      <td>0.003451</td>\n",
              "      <td>11.54</td>\n",
              "      <td>23.31</td>\n",
              "      <td>74.22</td>\n",
              "      <td>402.8</td>\n",
              "      <td>0.1219</td>\n",
              "      <td>0.1486</td>\n",
              "      <td>0.07987</td>\n",
              "      <td>0.03203</td>\n",
              "      <td>0.2826</td>\n",
              "      <td>0.07552</td>\n",
              "    </tr>\n",
              "    <tr>\n",
              "      <th>4</th>\n",
              "      <td>91376701</td>\n",
              "      <td>B</td>\n",
              "      <td>12.25</td>\n",
              "      <td>22.44</td>\n",
              "      <td>78.18</td>\n",
              "      <td>466.5</td>\n",
              "      <td>0.08192</td>\n",
              "      <td>0.05200</td>\n",
              "      <td>0.01714</td>\n",
              "      <td>0.01261</td>\n",
              "      <td>0.1544</td>\n",
              "      <td>0.05976</td>\n",
              "      <td>0.2239</td>\n",
              "      <td>1.139</td>\n",
              "      <td>1.577</td>\n",
              "      <td>18.04</td>\n",
              "      <td>0.005096</td>\n",
              "      <td>0.01205</td>\n",
              "      <td>0.00941</td>\n",
              "      <td>0.004551</td>\n",
              "      <td>0.01608</td>\n",
              "      <td>0.002399</td>\n",
              "      <td>14.17</td>\n",
              "      <td>31.99</td>\n",
              "      <td>92.74</td>\n",
              "      <td>622.9</td>\n",
              "      <td>0.1256</td>\n",
              "      <td>0.1804</td>\n",
              "      <td>0.12300</td>\n",
              "      <td>0.06335</td>\n",
              "      <td>0.3100</td>\n",
              "      <td>0.08203</td>\n",
              "    </tr>\n",
              "  </tbody>\n",
              "</table>\n",
              "</div>"
            ],
            "text/plain": [
              "         ID Diagnosis  ...  symmetry_worst  fractal_dimension_worst\n",
              "0    866203         M  ...          0.2841                  0.06541\n",
              "1     91505         B  ...          0.3155                  0.07538\n",
              "2   9010018         M  ...          0.2654                  0.09438\n",
              "3    862989         B  ...          0.2826                  0.07552\n",
              "4  91376701         B  ...          0.3100                  0.08203\n",
              "\n",
              "[5 rows x 32 columns]"
            ]
          },
          "metadata": {
            "tags": []
          },
          "execution_count": 33
        }
      ]
    },
    {
      "cell_type": "markdown",
      "metadata": {
        "id": "uGINrDBrbw8_",
        "colab_type": "text"
      },
      "source": [
        "####We can examine the data set using the pandas’ head() method.\n"
      ]
    },
    {
      "cell_type": "markdown",
      "metadata": {
        "id": "jAHJmT9E5a55",
        "colab_type": "text"
      },
      "source": [
        "##Loading dataset"
      ]
    },
    {
      "cell_type": "code",
      "metadata": {
        "id": "7VocD0g146rO",
        "colab_type": "code",
        "outputId": "f7c899a7-ca38-4872-fe6d-57d3b0de3e76",
        "colab": {
          "base_uri": "https://localhost:8080/",
          "height": 680
        }
      },
      "source": [
        "data.info ()"
      ],
      "execution_count": 34,
      "outputs": [
        {
          "output_type": "stream",
          "text": [
            "<class 'pandas.core.frame.DataFrame'>\n",
            "RangeIndex: 569 entries, 0 to 568\n",
            "Data columns (total 32 columns):\n",
            " #   Column                   Non-Null Count  Dtype  \n",
            "---  ------                   --------------  -----  \n",
            " 0   ID                       569 non-null    int64  \n",
            " 1   Diagnosis                569 non-null    object \n",
            " 2   radius_mean              569 non-null    float64\n",
            " 3   texture_mean             569 non-null    float64\n",
            " 4   perimeter_mean           569 non-null    float64\n",
            " 5   area_mean                569 non-null    float64\n",
            " 6   smoothness_mean          569 non-null    float64\n",
            " 7   compactness_mean         569 non-null    float64\n",
            " 8   concavity_mean           569 non-null    float64\n",
            " 9   concave_points_mean      569 non-null    float64\n",
            " 10  symmetry_mean            569 non-null    float64\n",
            " 11  fractal_dimension_mean   569 non-null    float64\n",
            " 12  radius_se                569 non-null    float64\n",
            " 13  texture_se               569 non-null    float64\n",
            " 14  perimeter_se             569 non-null    float64\n",
            " 15  area_se                  569 non-null    float64\n",
            " 16  smoothness_se            569 non-null    float64\n",
            " 17  compactness_se           569 non-null    float64\n",
            " 18  concavity_se             569 non-null    float64\n",
            " 19  concave_points_se        569 non-null    float64\n",
            " 20  symmetry_se              569 non-null    float64\n",
            " 21  fractal_dimension_se     569 non-null    float64\n",
            " 22  radius_worst             569 non-null    float64\n",
            " 23  texture_worst            569 non-null    float64\n",
            " 24  perimeter_worst          569 non-null    float64\n",
            " 25  area_worst               569 non-null    float64\n",
            " 26  smoothness_worst         569 non-null    float64\n",
            " 27  compactness_worst        569 non-null    float64\n",
            " 28  concavity_worst          569 non-null    float64\n",
            " 29  concave_points_worst     569 non-null    float64\n",
            " 30  symmetry_worst           569 non-null    float64\n",
            " 31  fractal_dimension_worst  569 non-null    float64\n",
            "dtypes: float64(30), int64(1), object(1)\n",
            "memory usage: 142.4+ KB\n"
          ],
          "name": "stdout"
        }
      ]
    },
    {
      "cell_type": "markdown",
      "metadata": {
        "id": "bF_lMVH35hBf",
        "colab_type": "text"
      },
      "source": [
        "Dropping columns – ‘ID’ as they have no role in prediction"
      ]
    },
    {
      "cell_type": "code",
      "metadata": {
        "id": "q7dPLoTd5jQY",
        "colab_type": "code",
        "outputId": "28f307f0-81bc-4749-bc6b-40033d4894b7",
        "colab": {
          "base_uri": "https://localhost:8080/",
          "height": 34
        }
      },
      "source": [
        "data.drop(['ID'], axis = 1) \n",
        "print(data.shape) "
      ],
      "execution_count": 35,
      "outputs": [
        {
          "output_type": "stream",
          "text": [
            "(569, 32)\n"
          ],
          "name": "stdout"
        }
      ]
    },
    {
      "cell_type": "markdown",
      "metadata": {
        "id": "9B3RBq03cgPk",
        "colab_type": "text"
      },
      "source": [
        "We can find the dimensions of the data set using the panda dataset ‘shape’ attribute.\n",
        "\n",
        "We can observe that the data set contain 569 rows and 32 columns. ‘Diagnosis’ is the column which we are going to predict , which says if the cancer is M = Malignant or B = Benign. 1 means the cancer is malignant and 0 means benign. "
      ]
    },
    {
      "cell_type": "markdown",
      "metadata": {
        "id": "gWLJW9E16lP9",
        "colab_type": "text"
      },
      "source": [
        "###Converting the diagnosis value of M and B to a numerical value\n",
        "M (Malignant) = 1\n",
        "B (Benign) = 0"
      ]
    },
    {
      "cell_type": "code",
      "metadata": {
        "id": "AV32x3FT6x9e",
        "colab_type": "code",
        "outputId": "7d2e1c04-d196-4f29-c8e7-72d4ded15889",
        "colab": {
          "base_uri": "https://localhost:8080/",
          "height": 221
        }
      },
      "source": [
        "def diagnosis_value(Diagnosis): \n",
        "    if Diagnosis == 'M': \n",
        "        return 1\n",
        "    else: \n",
        "        return 0\n",
        "data['Diagnosis_N'] = data['Diagnosis'].apply(diagnosis_value) \n",
        "data['Diagnosis_N']"
      ],
      "execution_count": 36,
      "outputs": [
        {
          "output_type": "execute_result",
          "data": {
            "text/plain": [
              "0      1\n",
              "1      0\n",
              "2      1\n",
              "3      0\n",
              "4      0\n",
              "      ..\n",
              "564    1\n",
              "565    0\n",
              "566    1\n",
              "567    0\n",
              "568    0\n",
              "Name: Diagnosis_N, Length: 569, dtype: int64"
            ]
          },
          "metadata": {
            "tags": []
          },
          "execution_count": 36
        }
      ]
    },
    {
      "cell_type": "code",
      "metadata": {
        "id": "1UHEYX978dWC",
        "colab_type": "code",
        "outputId": "dfa9b09b-c82f-46fd-a8b1-903d16a5e00b",
        "colab": {
          "base_uri": "https://localhost:8080/",
          "height": 386
        }
      },
      "source": [
        "sns.lmplot(x = 'radius_mean', y = 'texture_mean', hue = 'Diagnosis_N', data=data) \n"
      ],
      "execution_count": 37,
      "outputs": [
        {
          "output_type": "execute_result",
          "data": {
            "text/plain": [
              "<seaborn.axisgrid.FacetGrid at 0x7efdc21464a8>"
            ]
          },
          "metadata": {
            "tags": []
          },
          "execution_count": 37
        },
        {
          "output_type": "display_data",
          "data": {
            "image/png": "[encoded data removed]",
            "text/plain": [
              "<Figure size 429.375x360 with 1 Axes>"
            ]
          },
          "metadata": {
            "tags": [],
            "needs_background": "light"
          }
        }
      ]
    },
    {
      "cell_type": "code",
      "metadata": {
        "id": "9eQkeE5kPQS3",
        "colab_type": "code",
        "outputId": "3d318943-27ed-4d14-aabd-75f32d8e84e5",
        "colab": {
          "base_uri": "https://localhost:8080/",
          "height": 386
        }
      },
      "source": [
        "sns.lmplot(x ='smoothness_mean', y = 'compactness_mean',  \n",
        "           data = data, hue = 'Diagnosis_N') "
      ],
      "execution_count": 38,
      "outputs": [
        {
          "output_type": "execute_result",
          "data": {
            "text/plain": [
              "<seaborn.axisgrid.FacetGrid at 0x7efdbfb992e8>"
            ]
          },
          "metadata": {
            "tags": []
          },
          "execution_count": 38
        },
        {
          "output_type": "display_data",
          "data": {
            "image/png": "[encoded data removed]",
            "text/plain": [
              "<Figure size 429.375x360 with 1 Axes>"
            ]
          },
          "metadata": {
            "tags": [],
            "needs_background": "light"
          }
        }
      ]
    },
    {
      "cell_type": "markdown",
      "metadata": {
        "id": "1R83jvBVdDrx",
        "colab_type": "text"
      },
      "source": [
        "####Missing or Null Data points\n",
        "We can find any missing or null data points of the data set (if there is any) using the following pandas function.\n"
      ]
    },
    {
      "cell_type": "code",
      "metadata": {
        "id": "jWSiTvCqdLfs",
        "colab_type": "code",
        "outputId": "fcce1cca-78e6-403b-ef08-e80de706fc95",
        "colab": {
          "base_uri": "https://localhost:8080/",
          "height": 595
        }
      },
      "source": [
        "data.isnull().sum()\n",
        "data.isna().sum()"
      ],
      "execution_count": 39,
      "outputs": [
        {
          "output_type": "execute_result",
          "data": {
            "text/plain": [
              "ID                         0\n",
              "Diagnosis                  0\n",
              "radius_mean                0\n",
              "texture_mean               0\n",
              "perimeter_mean             0\n",
              "area_mean                  0\n",
              "smoothness_mean            0\n",
              "compactness_mean           0\n",
              "concavity_mean             0\n",
              "concave_points_mean        0\n",
              "symmetry_mean              0\n",
              "fractal_dimension_mean     0\n",
              "radius_se                  0\n",
              "texture_se                 0\n",
              "perimeter_se               0\n",
              "area_se                    0\n",
              "smoothness_se              0\n",
              "compactness_se             0\n",
              "concavity_se               0\n",
              "concave_points_se          0\n",
              "symmetry_se                0\n",
              "fractal_dimension_se       0\n",
              "radius_worst               0\n",
              "texture_worst              0\n",
              "perimeter_worst            0\n",
              "area_worst                 0\n",
              "smoothness_worst           0\n",
              "compactness_worst          0\n",
              "concavity_worst            0\n",
              "concave_points_worst       0\n",
              "symmetry_worst             0\n",
              "fractal_dimension_worst    0\n",
              "Diagnosis_N                0\n",
              "dtype: int64"
            ]
          },
          "metadata": {
            "tags": []
          },
          "execution_count": 39
        }
      ]
    },
    {
      "cell_type": "code",
      "metadata": {
        "id": "Vle4R9RePhcs",
        "colab_type": "code",
        "outputId": "23727306-c439-4032-f3a5-8cfbf9634005",
        "colab": {
          "base_uri": "https://localhost:8080/",
          "height": 238
        }
      },
      "source": [
        "x = np.array(data.iloc[:, 2:]) \n",
        "y = np.array(data['Diagnosis_N']) \n",
        "x"
      ],
      "execution_count": 40,
      "outputs": [
        {
          "output_type": "execute_result",
          "data": {
            "text/plain": [
              "array([[1.900e+01, 1.891e+01, 1.234e+02, ..., 2.841e-01, 6.541e-02,\n",
              "        1.000e+00],\n",
              "       [1.254e+01, 1.632e+01, 8.125e+01, ..., 3.155e-01, 7.538e-02,\n",
              "        0.000e+00],\n",
              "       [1.508e+01, 2.574e+01, 9.800e+01, ..., 2.654e-01, 9.438e-02,\n",
              "        1.000e+00],\n",
              "       ...,\n",
              "       [1.747e+01, 2.468e+01, 1.161e+02, ..., 2.160e-01, 9.300e-02,\n",
              "        1.000e+00],\n",
              "       [1.141e+01, 1.492e+01, 7.353e+01, ..., 1.811e-01, 7.427e-02,\n",
              "        0.000e+00],\n",
              "       [1.169e+01, 2.444e+01, 7.637e+01, ..., 2.803e-01, 9.970e-02,\n",
              "        0.000e+00]])"
            ]
          },
          "metadata": {
            "tags": []
          },
          "execution_count": 40
        }
      ]
    },
    {
      "cell_type": "markdown",
      "metadata": {
        "id": "yi-BVCEZPqza",
        "colab_type": "text"
      },
      "source": [
        "#Splitting data to training and testing\n",
        "\n",
        "The data we use is usually split into training data and test data. The training set contains a known output and the model learns on this data in order to be generalized to other data later on. We have the test dataset in order to test our model’s prediction on this subset.\n",
        "We will do this using SciKit-Learn library in Python using the train_test_split method."
      ]
    },
    {
      "cell_type": "code",
      "metadata": {
        "id": "NbWVKj93Q6dR",
        "colab_type": "code",
        "outputId": "885b3c81-9515-4390-c0dd-2e0f70a41fd3",
        "colab": {
          "base_uri": "https://localhost:8080/",
          "height": 238
        }
      },
      "source": [
        "from sklearn.model_selection import train_test_split \n",
        "x_train, x_test, y_train, y_test = train_test_split( \n",
        "    x, y, test_size = 0.33, random_state = 42) \n",
        "x_train"
      ],
      "execution_count": 41,
      "outputs": [
        {
          "output_type": "execute_result",
          "data": {
            "text/plain": [
              "array([[2.811e+01, 1.847e+01, 1.885e+02, ..., 1.648e-01, 5.525e-02,\n",
              "        1.000e+00],\n",
              "       [9.742e+00, 1.912e+01, 6.193e+01, ..., 3.196e-01, 8.009e-02,\n",
              "        0.000e+00],\n",
              "       [1.205e+01, 2.272e+01, 7.875e+01, ..., 2.191e-01, 9.349e-02,\n",
              "        0.000e+00],\n",
              "       ...,\n",
              "       [1.918e+01, 2.249e+01, 1.275e+02, ..., 3.193e-01, 9.221e-02,\n",
              "        1.000e+00],\n",
              "       [1.267e+01, 1.730e+01, 8.125e+01, ..., 2.688e-01, 6.888e-02,\n",
              "        0.000e+00],\n",
              "       [1.189e+01, 1.835e+01, 7.732e+01, ..., 3.397e-01, 8.365e-02,\n",
              "        0.000e+00]])"
            ]
          },
          "metadata": {
            "tags": []
          },
          "execution_count": 41
        }
      ]
    },
    {
      "cell_type": "code",
      "metadata": {
        "id": "YhoMJAwKWOFn",
        "colab_type": "code",
        "colab": {}
      },
      "source": [
        "from sklearn.neighbors import KNeighborsClassifier\n",
        "knn = KNeighborsClassifier(n_neighbors = 13) \n",
        "knn.fit(x_train, y_train) \n",
        "train_accuracy = []\n",
        "test_accuracy = []"
      ],
      "execution_count": 0,
      "outputs": []
    },
    {
      "cell_type": "markdown",
      "metadata": {
        "id": "M-RCdxLbY9RU",
        "colab_type": "text"
      },
      "source": [
        "#Prediction Score"
      ]
    },
    {
      "cell_type": "code",
      "metadata": {
        "id": "YZjuha-yY-9L",
        "colab_type": "code",
        "outputId": "45d6d7e4-4a7e-44f8-e0b1-db6c1236094e",
        "colab": {
          "base_uri": "https://localhost:8080/",
          "height": 34
        }
      },
      "source": [
        "knn.score(x_test, y_test) \n"
      ],
      "execution_count": 43,
      "outputs": [
        {
          "output_type": "execute_result",
          "data": {
            "text/plain": [
              "0.9095744680851063"
            ]
          },
          "metadata": {
            "tags": []
          },
          "execution_count": 43
        }
      ]
    },
    {
      "cell_type": "markdown",
      "metadata": {
        "id": "NZKGHKdzkIyO",
        "colab_type": "text"
      },
      "source": [
        "###KNN of 3"
      ]
    },
    {
      "cell_type": "code",
      "metadata": {
        "id": "1DhfTpnpj8C5",
        "colab_type": "code",
        "outputId": "17eede2c-cecd-4d31-e73e-00043aa2abd6",
        "colab": {
          "base_uri": "https://localhost:8080/",
          "height": 68
        }
      },
      "source": [
        "knn = KNeighborsClassifier(n_neighbors=3)\n",
        "knn.fit(x_train, y_train)\n",
        "print(\"k-Nearest Neighbor 3\")\n",
        "print(f\"k-Nearest Neighbor classifier on training set: {format(knn.score(x_train, y_train), '.4f')} \")\n",
        "print(f\"k-Nearest Neighbor classifier on testing set: {format(knn.score(x_test, y_test), '.4f')} \")"
      ],
      "execution_count": 44,
      "outputs": [
        {
          "output_type": "stream",
          "text": [
            "k-Nearest Neighbor 3\n",
            "k-Nearest Neighbor classifier on training set: 0.9633 \n",
            "k-Nearest Neighbor classifier on testing set: 0.9096 \n"
          ],
          "name": "stdout"
        }
      ]
    },
    {
      "cell_type": "markdown",
      "metadata": {
        "id": "SfuoGV_MyWdV",
        "colab_type": "text"
      },
      "source": [
        "####KNN of 5"
      ]
    },
    {
      "cell_type": "code",
      "metadata": {
        "id": "3VxgzTGfypl7",
        "colab_type": "code",
        "colab": {
          "base_uri": "https://localhost:8080/",
          "height": 68
        },
        "outputId": "5f31fc5f-91f0-4319-f72c-44fcfef8400a"
      },
      "source": [
        "knn = KNeighborsClassifier(n_neighbors=5)\n",
        "knn.fit(x_train, y_train)\n",
        "print(\"k-Nearest Neighbor 5\")\n",
        "print(f\"k-Nearest Neighbor classifier on training set: {format(knn.score(x_train, y_train), '.4f')} \")\n",
        "print(f\"k-Nearest Neighbor classifier on testing set: {format(knn.score(x_test, y_test), '.4f')} \")"
      ],
      "execution_count": 45,
      "outputs": [
        {
          "output_type": "stream",
          "text": [
            "k-Nearest Neighbor 5\n",
            "k-Nearest Neighbor classifier on training set: 0.9528 \n",
            "k-Nearest Neighbor classifier on testing set: 0.9096 \n"
          ],
          "name": "stdout"
        }
      ]
    },
    {
      "cell_type": "markdown",
      "metadata": {
        "id": "Bow4R8IkyZmE",
        "colab_type": "text"
      },
      "source": [
        "####KNN of 15"
      ]
    },
    {
      "cell_type": "code",
      "metadata": {
        "id": "ISrrI4L3zglt",
        "colab_type": "code",
        "colab": {
          "base_uri": "https://localhost:8080/",
          "height": 68
        },
        "outputId": "85a74833-9137-4c26-cc51-19203a11ee48"
      },
      "source": [
        "knn = KNeighborsClassifier(n_neighbors=15)\n",
        "knn.fit(x_train, y_train)\n",
        "print(\"k-Nearest Neighbor 15\")\n",
        "print(f\"k-Nearest Neighbor classifier on training set: {format(knn.score(x_train, y_train), '.4f')} \")\n",
        "print(f\"k-Nearest Neighbor classifier on testing set: {format(knn.score(x_test, y_test), '.4f')} \")"
      ],
      "execution_count": 46,
      "outputs": [
        {
          "output_type": "stream",
          "text": [
            "k-Nearest Neighbor 15\n",
            "k-Nearest Neighbor classifier on training set: 0.9449 \n",
            "k-Nearest Neighbor classifier on testing set: 0.9043 \n"
          ],
          "name": "stdout"
        }
      ]
    },
    {
      "cell_type": "markdown",
      "metadata": {
        "id": "RmQORDz2zmjE",
        "colab_type": "text"
      },
      "source": [
        "####KNN of 30"
      ]
    },
    {
      "cell_type": "code",
      "metadata": {
        "id": "pXLqa9Ffzr1a",
        "colab_type": "code",
        "colab": {
          "base_uri": "https://localhost:8080/",
          "height": 68
        },
        "outputId": "ab017a4c-03c7-48ca-b96e-7950cddb9477"
      },
      "source": [
        "knn = KNeighborsClassifier(n_neighbors=30)\n",
        "knn.fit(x_train, y_train)\n",
        "print(\"k-Nearest Neighbor 30\")\n",
        "print(f\"k-Nearest Neighbor classifier on training set: {format(knn.score(x_train, y_train), '.4f')} \")\n",
        "print(f\"k-Nearest Neighbor classifier on testing set: {format(knn.score(x_test, y_test), '.4f')} \")"
      ],
      "execution_count": 47,
      "outputs": [
        {
          "output_type": "stream",
          "text": [
            "k-Nearest Neighbor 30\n",
            "k-Nearest Neighbor classifier on training set: 0.9370 \n",
            "k-Nearest Neighbor classifier on testing set: 0.8777 \n"
          ],
          "name": "stdout"
        }
      ]
    },
    {
      "cell_type": "markdown",
      "metadata": {
        "id": "zEoaj5dwZUHV",
        "colab_type": "text"
      },
      "source": [
        "#Performing Cross Validation"
      ]
    },
    {
      "cell_type": "code",
      "metadata": {
        "id": "j_pmJtMbZZrs",
        "colab_type": "code",
        "colab": {}
      },
      "source": [
        "neighbors = [] \n",
        "cv_scores = [] \n",
        "\n",
        "from sklearn.model_selection import cross_val_score \n",
        "# perform 10 fold cross validation \n",
        "for k in range(1, 51, 2): \n",
        "    neighbors.append(k) \n",
        "    knn = KNeighborsClassifier(n_neighbors = k) \n",
        "    scores = cross_val_score( \n",
        "        knn, x_train, y_train, cv = 10, scoring = 'accuracy') \n",
        "    cv_scores.append(scores.mean())"
      ],
      "execution_count": 0,
      "outputs": []
    },
    {
      "cell_type": "markdown",
      "metadata": {
        "id": "dwXCdrR_Zxpv",
        "colab_type": "text"
      },
      "source": [
        "#Misclassification error versus k"
      ]
    },
    {
      "cell_type": "code",
      "metadata": {
        "id": "s5dQ4Y3pZ1B9",
        "colab_type": "code",
        "outputId": "83d7f3c7-f52c-438c-ce5f-9755f07e6937",
        "colab": {
          "base_uri": "https://localhost:8080/",
          "height": 405
        }
      },
      "source": [
        "MSE = [1-x for x in cv_scores] \n",
        "\n",
        "# determining the best k \n",
        "optimal_k = neighbors[MSE.index(min(MSE))] \n",
        "print('The optimal number of neighbors is % d ' % optimal_k) \n",
        "  \n",
        "# plot misclassification error versus k \n",
        "plt.figure(figsize = (10, 6)) \n",
        "plt.plot(neighbors, MSE) \n",
        "plt.xlabel('Number of neighbors') \n",
        "plt.ylabel('Misclassification Error') \n",
        "plt.show() \n"
      ],
      "execution_count": 49,
      "outputs": [
        {
          "output_type": "stream",
          "text": [
            "The optimal number of neighbors is  5 \n"
          ],
          "name": "stdout"
        },
        {
          "output_type": "display_data",
          "data": {
            "image/png": "[encoded data removed]",
            "text/plain": [
              "<Figure size 720x432 with 1 Axes>"
            ]
          },
          "metadata": {
            "tags": [],
            "needs_background": "light"
          }
        }
      ]
    },
    {
      "cell_type": "markdown",
      "metadata": {
        "id": "EMqidf1lfGzq",
        "colab_type": "text"
      },
      "source": [
        "#Summary\n",
        "###Above is a snippet of code, where I imported the kNN model from Sci-kit Learn Library and trained it on the cancer data set, resulting in an accuracy of 90.1%. In the code above, I chose the value of k to be 5 after three cross-validations.\n"
      ]
    }
  ]
}